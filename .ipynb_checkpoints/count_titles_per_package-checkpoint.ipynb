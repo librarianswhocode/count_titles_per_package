{
 "cells": [
  {
   "cell_type": "code",
   "execution_count": null,
   "metadata": {},
   "outputs": [],
   "source": [
    "import pandas as pd\n",
    "pd.set_option('display.max_columns', 5400)\n",
    "pd.set_option('display.max_colwidth', 500)\n",
    "pd.set_option('display.max_rows', 1000)\n",
    "import csv\n",
    "import numpy as np"
   ]
  },
  {
   "cell_type": "code",
   "execution_count": null,
   "metadata": {},
   "outputs": [],
   "source": [
    "##List latest csv file here\n",
    "holdings = pd.read_csv(\"c:\\\\kb_all\\\\all_4_1_2021.csv\", low_memory=False)\n",
    "#drop holdings that are hidden from publication finder\n",
    "holdings = holdings[holdings[\"HideOnPublicationFinder\"] != \"Y\"]\n",
    "##groupby first package names and count titles\n",
    "newlist = holdings.groupby(['PackageName', 'PackageContentType']).count().reset_index()\n",
    "##rename columns\n",
    "newlist.rename(columns={'PackageName':'Package Name', 'PackageContentType':'Content', 'Title':'Number of Titles'},inplace=True)\n",
    "##Drop unnecessary columns\n",
    "newlist.drop(['KBID', 'AlternateTitle', 'URL', 'ProxiedURL', 'Publisher', 'Edition', 'Author', 'Editor', 'Illustrator', 'UserDefinedField1', 'PrintISSN', 'OnlineISSN', 'PrintISBN', 'OnlineISBN', 'DOI', 'PeerReviewed', 'ManagedCoverageBegin', 'ManagedCoverageEnd', 'CustomCoverageEnd', 'CustomCoverageBegin', 'CustomCoverageEnd', 'CoverageStatement', 'Embargo', 'CustomEmbargo', 'Description', 'Subject', 'ResourceType', 'CreateCustom', 'HideOnPublicationFinder', 'Delete', 'OrderedThroughEBSCO', 'IsCustom', 'UserDefinedField1', 'UserDefinedField2', 'UserDefinedField3', 'UserDefinedField4', 'UserDefinedField5', 'PackageType', 'AllowEbscoToAddNewTitles'], axis=1, inplace=True)"
   ]
  },
  {
   "cell_type": "code",
   "execution_count": null,
   "metadata": {},
   "outputs": [],
   "source": [
    "#enter old csv file you want to compare here\n",
    "holdings_old = pd.read_csv(\"c:\\\\kb_all\\\\all_3_1_21.csv\", low_memory=False)\n",
    "#drop holdings that are hidden from publication finder\n",
    "holdings = holdings[holdings[\"HideOnPublicationFinder\"] != \"Y\"]\n",
    "##groupby first package names and count titles\n",
    "oldlist = holdings_old.groupby(['PackageName', 'PackageContentType']).count().reset_index()\n",
    "##rename columns\n",
    "oldlist.rename(columns={'PackageName':'Package Name', 'PackageContentType':'Content', 'Title':'Number of Titles'},inplace=True)\n",
    "##Drop unnecessary columns\n",
    "oldlist.drop(['KBID', 'AlternateTitle', 'URL', 'ProxiedURL', 'Publisher', 'Edition', 'Author', 'Editor', 'Illustrator', 'UserDefinedField1', 'PrintISSN', 'OnlineISSN', 'PrintISBN', 'OnlineISBN', 'DOI', 'PeerReviewed', 'ManagedCoverageBegin', 'ManagedCoverageEnd', 'CustomCoverageEnd', 'CustomCoverageBegin', 'CustomCoverageEnd', 'CoverageStatement', 'Embargo', 'CustomEmbargo', 'Description', 'Subject', 'ResourceType', 'CreateCustom', 'HideOnPublicationFinder', 'Delete', 'OrderedThroughEBSCO', 'IsCustom', 'UserDefinedField1', 'UserDefinedField2', 'UserDefinedField3', 'UserDefinedField4', 'UserDefinedField5', 'PackageType', 'AllowEbscoToAddNewTitles'], axis=1, inplace=True)"
   ]
  },
  {
   "cell_type": "code",
   "execution_count": null,
   "metadata": {},
   "outputs": [],
   "source": [
    "def report_diff(x):\n",
    "    return x[0] if x[0] == x[1] else '{} | {}'.format(*x)\n",
    "df_all = pd.concat(\n",
    "    [oldlist.set_index('Package Name'), newlist.set_index('Package Name')], \n",
    "    axis='columns', \n",
    "    keys=['oldlist', 'newlist'],\n",
    "    join='outer',\n",
    "    sort=True\n",
    ")\n",
    "\n",
    "df_all = df_all.swaplevel(axis='columns')[oldlist.columns[1:]]\n",
    "df_all.groupby(level=0, axis=1).apply(lambda frame: frame.apply(report_diff, axis=1))\n",
    "\n",
    "#Under number of titles first number is old holdings file and last number is latest holdings file. "
   ]
  }
 ],
 "metadata": {
  "kernelspec": {
   "display_name": "Python 3",
   "language": "python",
   "name": "python3"
  },
  "language_info": {
   "codemirror_mode": {
    "name": "ipython",
    "version": 3
   },
   "file_extension": ".py",
   "mimetype": "text/x-python",
   "name": "python",
   "nbconvert_exporter": "python",
   "pygments_lexer": "ipython3",
   "version": "3.7.3"
  }
 },
 "nbformat": 4,
 "nbformat_minor": 4
}
